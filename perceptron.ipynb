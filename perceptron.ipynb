{
  "nbformat": 4,
  "nbformat_minor": 0,
  "metadata": {
    "colab": {
      "provenance": [],
      "toc_visible": true,
      "authorship_tag": "ABX9TyNSozUeAZqi2eRuFus8wAHZ",
      "include_colab_link": true
    },
    "kernelspec": {
      "name": "python3",
      "display_name": "Python 3"
    },
    "language_info": {
      "name": "python"
    }
  },
  "cells": [
    {
      "cell_type": "markdown",
      "metadata": {
        "id": "view-in-github",
        "colab_type": "text"
      },
      "source": [
        "<a href=\"https://colab.research.google.com/github/SOUMOJIT-CHAKRABORTY/Neural-Network/blob/main/perceptron.ipynb\" target=\"_parent\"><img src=\"https://colab.research.google.com/assets/colab-badge.svg\" alt=\"Open In Colab\"/></a>"
      ]
    },
    {
      "cell_type": "code",
      "execution_count": null,
      "metadata": {
        "id": "KPsXx98uFpq-"
      },
      "outputs": [],
      "source": [
        "import numpy, random, os\n",
        "lr = 1 # learning rate\n",
        "bias = 1\n",
        "weights = [random.random(), random.random(), random.random(), random.random()]"
      ]
    },
    {
      "cell_type": "code",
      "source": [
        "# defining the Perceptron\n",
        "def Perceptron(input1,input2,input3,output) :\n",
        "  outputP = input1*weights[0] + input2*weights[1] +input3*weights[2] + bias*weights[3]\n",
        "  # Activation function (here Heaviside)\n",
        "  if outputP > 0 :\n",
        "    outputP = 1\n",
        "  else :\n",
        "    outputP = 0\n",
        "  error = output - outputP\n",
        "  weights[0] += error*input1*lr\n",
        "  weights[1] += error*input2*lr\n",
        "  weights[2] += error*input3*lr\n",
        "  weights[3] += error*bias*lr\n"
      ],
      "metadata": {
        "id": "FrxT1LBMGTvx"
      },
      "execution_count": null,
      "outputs": []
    },
    {
      "cell_type": "code",
      "source": [
        "# Learning Phrase\n",
        "for i in range(50) :\n",
        "  Perceptron(1,1,1,1)\n",
        "  Perceptron(1,0,1,0)\n",
        "  Perceptron(0,1,1,0)\n",
        "  Perceptron(1,1,0,0)\n",
        "  Perceptron(0,0,1,0)\n",
        "  Perceptron(0,1,0,0)\n",
        "  Perceptron(0,0,0,0)"
      ],
      "metadata": {
        "id": "2xrqsHtiM1z0"
      },
      "execution_count": null,
      "outputs": []
    },
    {
      "cell_type": "code",
      "source": [
        "# Testing Phrase\n",
        "X = int(input())\n",
        "Y = int(input())\n",
        "Z = int(input())\n",
        "outputP = X*weights[0] + Y*weights[1] +Z*weights[2] + bias*weights[3]\n",
        "if outputP > 0 :\n",
        "  outputP = 1\n",
        "else :\n",
        "  outputP = 0\n",
        "\n",
        "print(X,\"or\", Y , \"or\", Z, \"is : \", outputP)"
      ],
      "metadata": {
        "colab": {
          "base_uri": "https://localhost:8080/"
        },
        "id": "qZ4wQXkVNNqO",
        "outputId": "2e0c8065-4040-4b37-db88-31c31c1b1c77"
      },
      "execution_count": null,
      "outputs": [
        {
          "output_type": "stream",
          "name": "stdout",
          "text": [
            "1\n",
            "0\n",
            "0\n",
            "1 or 0 or 0 is :  0\n"
          ]
        }
      ]
    },
    {
      "cell_type": "code",
      "source": [
        "# Successfully working"
      ],
      "metadata": {
        "id": "j7wJm5SLOYA-"
      },
      "execution_count": null,
      "outputs": []
    }
  ]
}